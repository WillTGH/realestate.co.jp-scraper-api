{
 "cells": [
  {
   "cell_type": "code",
   "execution_count": 7,
   "id": "7c05989f",
   "metadata": {},
   "outputs": [],
   "source": [
    "import os\n",
    "import json\n",
    "import requests\n",
    "import pandas as pd\n",
    "import numpy as np"
   ]
  },
  {
   "cell_type": "code",
   "execution_count": 8,
   "id": "ddf04fcb",
   "metadata": {},
   "outputs": [],
   "source": [
    "url = 'https://realestate.co.jp/api'\n"
   ]
  },
  {
   "cell_type": "code",
   "execution_count": 9,
   "id": "43dcf7d3",
   "metadata": {},
   "outputs": [],
   "source": [
    "payload = {\n",
    "    \"operationName\":\"Districts\",\n",
    "    \"variables\":{\"lang\":\"EN\",\"cityId\":\"13123\"},\n",
    "    \"query\":\"query Districts($cityId: ID!, $lang: Lang = EN) {\\n  locations(cityId: $cityId, lang: $lang) {\\n    locations {\\n      id\\n      postcode\\n      district\\n      slug\\n      districtBase\\n      __typename\\n    }\\n    __typename\\n  }\\n}\"}\n",
    "\n",
    "headers = {\n",
    "    \"Content-Type\": \"application/json\"\n",
    "}"
   ]
  },
  {
   "cell_type": "code",
   "execution_count": null,
   "id": "acb78537",
   "metadata": {},
   "outputs": [
    {
     "data": {
      "text/plain": [
       "{'type': 'Bad Request',\n",
       " 'title': 'Malformed json received',\n",
       " 'details': 'An error occurred when attempting to decode the json body'}"
      ]
     },
     "execution_count": 10,
     "metadata": {},
     "output_type": "execute_result"
    }
   ],
   "source": [
    "response = requests.post(url, json=payload, headers=header)\n",
    "response.json()"
   ]
  },
  {
   "cell_type": "code",
   "execution_count": null,
   "id": "b8c034e4",
   "metadata": {},
   "outputs": [],
   "source": []
  }
 ],
 "metadata": {
  "kernelspec": {
   "display_name": "scrap",
   "language": "python",
   "name": "python3"
  },
  "language_info": {
   "codemirror_mode": {
    "name": "ipython",
    "version": 3
   },
   "file_extension": ".py",
   "mimetype": "text/x-python",
   "name": "python",
   "nbconvert_exporter": "python",
   "pygments_lexer": "ipython3",
   "version": "3.11.13"
  }
 },
 "nbformat": 4,
 "nbformat_minor": 5
}
